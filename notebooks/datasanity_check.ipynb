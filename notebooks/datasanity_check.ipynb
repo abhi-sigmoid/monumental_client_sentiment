{
 "cells": [
  {
   "cell_type": "code",
   "execution_count": 1,
   "metadata": {},
   "outputs": [],
   "source": [
    "import pandas as pd"
   ]
  },
  {
   "cell_type": "code",
   "execution_count": 7,
   "metadata": {},
   "outputs": [
    {
     "name": "stdout",
     "output_type": "stream",
     "text": [
      "Loading latest period data from: ../data/output/synthetic_emails_jan2025_jun2025.csv\n"
     ]
    }
   ],
   "source": [
    "import glob\n",
    "import os\n",
    "\n",
    "# Find all CSV files in the data/output directory that match the expected pattern\n",
    "csv_files = glob.glob(\"../data/output/synthetic_emails_*.csv\")\n",
    "\n",
    "if not csv_files:\n",
    "    raise FileNotFoundError(\"No synthetic_emails CSV files found in data/output/\")\n",
    "\n",
    "# Extract the period (e.g., jan2025_jun2025) from the filenames and sort to get the latest\n",
    "def extract_period(filename):\n",
    "    # filename: data/output/synthetic_emails_jan2025_jun2025.csv\n",
    "    base = os.path.basename(filename)\n",
    "    parts = base.replace(\".csv\", \"\").split(\"_\")\n",
    "    # period is everything after 'synthetic_emails_'\n",
    "    return \"_\".join(parts[2:])\n",
    "\n",
    "# Sort files by period (lexicographically, which works for this format)\n",
    "csv_files_sorted = sorted(csv_files, key=extract_period)\n",
    "latest_csv = csv_files_sorted[-1]\n",
    "\n",
    "print(f\"Loading latest period data from: {latest_csv}\")\n",
    "df_latest = pd.read_csv(latest_csv)\n"
   ]
  },
  {
   "cell_type": "code",
   "execution_count": 8,
   "metadata": {},
   "outputs": [
    {
     "data": {
      "text/html": [
       "<div>\n",
       "<style scoped>\n",
       "    .dataframe tbody tr th:only-of-type {\n",
       "        vertical-align: middle;\n",
       "    }\n",
       "\n",
       "    .dataframe tbody tr th {\n",
       "        vertical-align: top;\n",
       "    }\n",
       "\n",
       "    .dataframe thead th {\n",
       "        text-align: right;\n",
       "    }\n",
       "</style>\n",
       "<table border=\"1\" class=\"dataframe\">\n",
       "  <thead>\n",
       "    <tr style=\"text-align: right;\">\n",
       "      <th></th>\n",
       "      <th>date</th>\n",
       "      <th>category</th>\n",
       "      <th>subject</th>\n",
       "      <th>body</th>\n",
       "    </tr>\n",
       "  </thead>\n",
       "  <tbody>\n",
       "    <tr>\n",
       "      <th>0</th>\n",
       "      <td>2025-01-12</td>\n",
       "      <td>Admin/Coordination</td>\n",
       "      <td>Request for Scheduling Support with Conference...</td>\n",
       "      <td>Dear Facilities Team,\\n\\nI hope this email fin...</td>\n",
       "    </tr>\n",
       "    <tr>\n",
       "      <th>1</th>\n",
       "      <td>2025-01-19</td>\n",
       "      <td>Product/Stocking Requests</td>\n",
       "      <td>Restocking Request for High-End Scented Candle...</td>\n",
       "      <td>Dear Wholesale Representative,\\n\\nI hope this ...</td>\n",
       "    </tr>\n",
       "    <tr>\n",
       "      <th>2</th>\n",
       "      <td>2025-01-28</td>\n",
       "      <td>General Follow-ups</td>\n",
       "      <td>Update on the Digital Transformation Project f...</td>\n",
       "      <td>Dear Alex Chen,\\n\\nI hope this email finds you...</td>\n",
       "    </tr>\n",
       "    <tr>\n",
       "      <th>3</th>\n",
       "      <td>2025-01-29</td>\n",
       "      <td>Billing/Invoices</td>\n",
       "      <td>Payment Terms Clarification Regarding Last Inv...</td>\n",
       "      <td>Dear [Billing Team],\\n\\nI hope this email find...</td>\n",
       "    </tr>\n",
       "    <tr>\n",
       "      <th>4</th>\n",
       "      <td>2025-01-27</td>\n",
       "      <td>Product/Stocking Requests</td>\n",
       "      <td>Request for Availability of New Seasonal Flavo...</td>\n",
       "      <td>Dear [Wholesale Manager's Name],\\n\\nI hope thi...</td>\n",
       "    </tr>\n",
       "  </tbody>\n",
       "</table>\n",
       "</div>"
      ],
      "text/plain": [
       "         date                   category  \\\n",
       "0  2025-01-12         Admin/Coordination   \n",
       "1  2025-01-19  Product/Stocking Requests   \n",
       "2  2025-01-28         General Follow-ups   \n",
       "3  2025-01-29           Billing/Invoices   \n",
       "4  2025-01-27  Product/Stocking Requests   \n",
       "\n",
       "                                             subject  \\\n",
       "0  Request for Scheduling Support with Conference...   \n",
       "1  Restocking Request for High-End Scented Candle...   \n",
       "2  Update on the Digital Transformation Project f...   \n",
       "3  Payment Terms Clarification Regarding Last Inv...   \n",
       "4  Request for Availability of New Seasonal Flavo...   \n",
       "\n",
       "                                                body  \n",
       "0  Dear Facilities Team,\\n\\nI hope this email fin...  \n",
       "1  Dear Wholesale Representative,\\n\\nI hope this ...  \n",
       "2  Dear Alex Chen,\\n\\nI hope this email finds you...  \n",
       "3  Dear [Billing Team],\\n\\nI hope this email find...  \n",
       "4  Dear [Wholesale Manager's Name],\\n\\nI hope thi...  "
      ]
     },
     "execution_count": 8,
     "metadata": {},
     "output_type": "execute_result"
    }
   ],
   "source": [
    "df_latest.head()"
   ]
  },
  {
   "cell_type": "code",
   "execution_count": 1,
   "metadata": {},
   "outputs": [
    {
     "name": "stdout",
     "output_type": "stream",
     "text": [
      "Number of rows to be deleted: 30\n",
      "Deleted 30 rows.\n"
     ]
    }
   ],
   "source": [
    "# need to remove the instances from databse where the tag is Wander Bear Straight Black Organic Cold Brew Coffee\n",
    "import sqlite3\n",
    "import json\n",
    "\n",
    "db_path = '../data/email_analysis.db'\n",
    "tag_to_remove = \"Wander Bear Straight Black Organic Cold Brew Coffee\"\n",
    "\n",
    "# Connect to the database\n",
    "conn = sqlite3.connect(db_path)\n",
    "cursor = conn.cursor()\n",
    "\n",
    "# Find rows where the tag is present in the tags list\n",
    "select_query = \"SELECT id, tags FROM email_analysis\"\n",
    "rows = cursor.execute(select_query).fetchall()\n",
    "\n",
    "# Find IDs to delete\n",
    "ids_to_delete = []\n",
    "for row in rows:\n",
    "    row_id, tags_json = row\n",
    "    try:\n",
    "        tags = json.loads(tags_json)\n",
    "    except Exception:\n",
    "        tags = []\n",
    "    if tag_to_remove in tags:\n",
    "        ids_to_delete.append(row_id)\n",
    "\n",
    "print(f\"Number of rows to be deleted: {len(ids_to_delete)}\")\n",
    "\n",
    "# Delete those rows\n",
    "if ids_to_delete:\n",
    "    cursor.executemany(\"DELETE FROM email_analysis WHERE id = ?\", [(i,) for i in ids_to_delete])\n",
    "    conn.commit()\n",
    "    print(f\"Deleted {len(ids_to_delete)} rows.\")\n",
    "else:\n",
    "    print(\"No rows found with the specified tag.\")\n",
    "\n",
    "conn.close()"
   ]
  },
  {
   "cell_type": "markdown",
   "metadata": {},
   "source": []
  }
 ],
 "metadata": {
  "kernelspec": {
   "display_name": "venv",
   "language": "python",
   "name": "python3"
  },
  "language_info": {
   "codemirror_mode": {
    "name": "ipython",
    "version": 3
   },
   "file_extension": ".py",
   "mimetype": "text/x-python",
   "name": "python",
   "nbconvert_exporter": "python",
   "pygments_lexer": "ipython3",
   "version": "3.11.5"
  }
 },
 "nbformat": 4,
 "nbformat_minor": 2
}
